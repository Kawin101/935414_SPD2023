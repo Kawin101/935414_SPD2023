{
  "nbformat": 4,
  "nbformat_minor": 0,
  "metadata": {
    "colab": {
      "provenance": [],
      "gpuType": "T4",
      "authorship_tag": "ABX9TyPbQDveW8bP+7HPwoaBqdcr",
      "include_colab_link": true
    },
    "kernelspec": {
      "name": "python3",
      "display_name": "Python 3"
    },
    "language_info": {
      "name": "python"
    },
    "accelerator": "GPU"
  },
  "cells": [
    {
      "cell_type": "markdown",
      "metadata": {
        "id": "view-in-github",
        "colab_type": "text"
      },
      "source": [
        "<a href=\"https://colab.research.google.com/github/Kawin101/935414_SPD2023/blob/main/935414_Lab01_Dice5_633410142_5.ipynb\" target=\"_parent\"><img src=\"https://colab.research.google.com/assets/colab-badge.svg\" alt=\"Open In Colab\"/></a>"
      ]
    },
    {
      "cell_type": "code",
      "source": [
        "import random"
      ],
      "metadata": {
        "id": "KGax4Bp3KyFg"
      },
      "execution_count": null,
      "outputs": []
    },
    {
      "cell_type": "code",
      "execution_count": 25,
      "metadata": {
        "colab": {
          "base_uri": "https://localhost:8080/"
        },
        "id": "pXQSNe0f8agI",
        "outputId": "ad7d5d26-0edd-4750-a402-d2447b01d9e2"
      },
      "outputs": [
        {
          "output_type": "stream",
          "name": "stdout",
          "text": [
            "จำนวนครั้งการเกิดแต้มมากกว่า 11 คือ 81 จากทั้งหมด 216 แบบ\n",
            "คิดเป็นความน่าจะเป็น 0.375\n"
          ]
        }
      ],
      "source": [
        "nd=0\n",
        "n11=0\n",
        "for d1 in range(1,7): # 1,2,3,4,5,6 | 7 คือขอบ วงนอกสุด python ไม่นับขอบ\n",
        "  for d2 in range(1,7):\n",
        "    for d3 in range(1,7):\n",
        "      nd = nd+1 # nd +=1\n",
        "      # print(nd, d1, d2, d3)\n",
        "      sumd = d1+d2+d3\n",
        "      # if d1+d2+d3 > 11:\n",
        "      # if d1+d2+d3 < 11:\n",
        "      if sumd > 11:\n",
        "        n11 = n11+1\n",
        "# print(\"จำนวนครั้งการเกิดแต้ม 11 คือ\", n11, \"จากทั้งหมด\", nd, \"แบบ\")\n",
        "# print(\"จำนวนครั้งการเกิดแต้มน้อยกว่า 11 คือ\", n11, \"จากทั้งหมด\", nd, \"แบบ\")\n",
        "print(\"จำนวนครั้งการเกิดแต้มมากกว่า 11 คือ\", n11, \"จากทั้งหมด\", nd, \"แบบ\")\n",
        "print(\"คิดเป็นความน่าจะเป็น\", n11/nd)"
      ]
    },
    {
      "cell_type": "code",
      "source": [
        "ps = [0 for i in range(1,7)]\n",
        "# print(ps)\n",
        "\n",
        "np = [0]*18\n",
        "print(np)\n",
        "print(np[0])\n",
        "print(np[17])\n"
      ],
      "metadata": {
        "colab": {
          "base_uri": "https://localhost:8080/"
        },
        "id": "DYfPjeMh_TIP",
        "outputId": "205311fa-064b-45bc-d463-4c564634a8ba"
      },
      "execution_count": 24,
      "outputs": [
        {
          "output_type": "stream",
          "name": "stdout",
          "text": [
            "[0, 0, 0, 0, 0, 0, 0, 0, 0, 0, 0, 0, 0, 0, 0, 0, 0, 0]\n",
            "0\n",
            "0\n"
          ]
        }
      ]
    },
    {
      "cell_type": "code",
      "source": [
        "nd=0\n",
        "np=[0]*18\n",
        "i=-1\n",
        "for d1 in range(1,7): # 1,2,3,4,5,6 | 7 คือขอบ วงนอกสุด python ไม่นับขอบ\n",
        "  for d2 in range(1,7):\n",
        "    for d3 in range(1,7):\n",
        "      nd = nd+1 # nd +=1\n",
        "      sumd = d1+d2+d3\n",
        "      # print(\"ครั้งที่\",nd,\"แต้มแต่ละลูกได้\",d1,d2,d3,\"แต้มรวม\",sumd)\n",
        "      np[sumd-1] = np[sumd-1] + 1\n",
        "\n",
        "# print(np)\n",
        "for i in range(18):\n",
        "  print(\"จำนวนครั้งการเกิดแต้ม\",i+1,\"คือ\",np[i],\"คิดเป็นความน่าจะเป็นได้\",\"%.5f\"%(np[i]/nd))\n"
      ],
      "metadata": {
        "id": "m2wQDFjZBwKP"
      },
      "execution_count": null,
      "outputs": []
    },
    {
      "cell_type": "code",
      "source": [
        "nd=0\n",
        "np=[0]*18\n",
        "for d1 in range(1,7): # 1,2,3,4,5,6 | 7 คือขอบ วงนอกสุด python ไม่นับขอบ\n",
        "  for d2 in range(1,7):\n",
        "    for d3 in range(1,7):\n",
        "      nd = nd+1 # nd +=1\n",
        "      sumd = d1+d2+d3\n",
        "      # print(\"ครั้งที่\",nd,\"แต้มแต่ละลูกได้\",d1,d2,d3,\"แต้มรวม\",sumd)\n",
        "      np[sumd-1] = np[sumd-1] + 1\n",
        "print(np)\n",
        "# for i in range(18):\n",
        "  # print(\"จำนวนครั้งการเกิดแต้ม\",i+1,\"คือ\",np[i],\"คิดเป็นความน่าจะเป็นได้\",\"%.5f\"%(np[i]/nd))\n"
      ],
      "metadata": {
        "colab": {
          "base_uri": "https://localhost:8080/"
        },
        "id": "LHXqpN5dJU0h",
        "outputId": "f6196e89-a631-4f1b-b331-5797206a8a6e"
      },
      "execution_count": 74,
      "outputs": [
        {
          "output_type": "stream",
          "name": "stdout",
          "text": [
            "[0, 0, 1, 3, 6, 10, 15, 21, 25, 27, 27, 25, 21, 15, 10, 6, 3, 1]\n"
          ]
        }
      ]
    },
    {
      "cell_type": "code",
      "source": [
        "# 2.1 เกิดแต้มเดียวกัน จำนวน 5 ลูก\n",
        "nd=0\n",
        "np=[0]*30\n",
        "for d1 in range(1,7): # 1,2,3,4,5,6 | 7 คือขอบ วงนอกสุด python ไม่นับขอบ\n",
        "  for d2 in range(1,7):\n",
        "    for d3 in range(1,7):\n",
        "      for d4 in range(1,7):\n",
        "        for d5 in range(1,7):\n",
        "          nd = nd+1 # nd +=1\n",
        "          sumd = d1+d2+d3+d4+d5\n",
        "          # print(\"ครั้งที่\",nd,\"แต้มแต่ละลูกได้\",d1,d2,d3,d4,d5,\"แต้มรวม\",sumd)\n",
        "          np[sumd-1] = np[sumd-1] + 1\n",
        "# print(np)"
      ],
      "metadata": {
        "id": "zyX0bsrjQAUI"
      },
      "execution_count": 89,
      "outputs": []
    },
    {
      "cell_type": "code",
      "source": [
        "# กวินภพ ชมนิกร 633410142-5\n",
        "import itertools\n",
        "nd=0\n",
        "dp = range(1,7)\n",
        "for element in itertools.product(dp,dp,dp,dp,dp):\n",
        "  nd+=1\n",
        "  a=element\n",
        "  pp=[0]*6\n",
        "  for dd in a:\n",
        "      pp[dd-1] = pp[dd-1]+1\n",
        "  # print(nd, a, pp)\n",
        "\n",
        "  # มีแต้มเรียงกัน 5 ลูก\n",
        "  if a == (1,2,3,4,5):\n",
        "    print(\"แต้มเรียงกัน 5 ลูก\",\"ครั้งที่\",nd,a,pp)\n",
        "  elif a == (2,3,4,5,6):\n",
        "    print(\"แต้มเรียงกัน 5 ลูก\",\"ครั้งที่\",nd,a,pp)\n",
        "  elif a == (6,5,4,3,2):\n",
        "    print(\"แต้มเรียงกัน 5 ลูก\",\"ครั้งที่\",nd,a,pp)\n",
        "  elif a == (5,4,3,2,1):\n",
        "    print(\"แต้มเรียงกัน 5 ลูก\",\"ครั้งที่\",nd,a,pp)\n",
        "# print(type(element))"
      ],
      "metadata": {
        "colab": {
          "base_uri": "https://localhost:8080/"
        },
        "id": "W1HFL670UDq_",
        "outputId": "eee644a9-5de3-49fe-9375-efa7d405a538"
      },
      "execution_count": 151,
      "outputs": [
        {
          "output_type": "stream",
          "name": "stdout",
          "text": [
            "แต้มเรียงกัน 5 ลูก ครั้งที่ 311 (1, 2, 3, 4, 5) [1, 1, 1, 1, 1, 0]\n",
            "แต้มเรียงกัน 5 ลูก ครั้งที่ 1866 (2, 3, 4, 5, 6) [0, 1, 1, 1, 1, 1]\n",
            "แต้มเรียงกัน 5 ลูก ครั้งที่ 5911 (5, 4, 3, 2, 1) [1, 1, 1, 1, 1, 0]\n",
            "แต้มเรียงกัน 5 ลูก ครั้งที่ 7466 (6, 5, 4, 3, 2) [0, 1, 1, 1, 1, 1]\n"
          ]
        }
      ]
    }
  ]
}