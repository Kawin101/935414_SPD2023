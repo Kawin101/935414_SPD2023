{
  "nbformat": 4,
  "nbformat_minor": 0,
  "metadata": {
    "colab": {
      "provenance": [],
      "authorship_tag": "ABX9TyPx9Au45Sctl7MEzBh40NX0",
      "include_colab_link": true
    },
    "kernelspec": {
      "name": "python3",
      "display_name": "Python 3"
    },
    "language_info": {
      "name": "python"
    }
  },
  "cells": [
    {
      "cell_type": "markdown",
      "metadata": {
        "id": "view-in-github",
        "colab_type": "text"
      },
      "source": [
        "<a href=\"https://colab.research.google.com/github/Kawin101/935414_SPD2023/blob/main/935414_Final_Testing.ipynb\" target=\"_parent\"><img src=\"https://colab.research.google.com/assets/colab-badge.svg\" alt=\"Open In Colab\"/></a>"
      ]
    },
    {
      "cell_type": "code",
      "source": [
        "math = (0.2)**2\n",
        "math1 = (0.8)**4\n",
        "math2 = math * math1\n",
        "print(math2)"
      ],
      "metadata": {
        "colab": {
          "base_uri": "https://localhost:8080/"
        },
        "id": "Z6ShoRdLIkkt",
        "outputId": "c2ca8265-c9bd-49a8-f2ea-ee71337a4586"
      },
      "execution_count": 62,
      "outputs": [
        {
          "output_type": "stream",
          "name": "stdout",
          "text": [
            "0.016384000000000006\n"
          ]
        }
      ]
    },
    {
      "cell_type": "code",
      "source": [
        "import numpy as np\n",
        "# 0,1,2,3,4,5,6,7,8,9\n",
        "# กำหนดลูกบอลสีน้ำเงิน มีค่าเป็น ลูก 0, 1\n",
        "nS = 100000\n",
        "nE = 0\n",
        "for iter in range(nS):\n",
        "  count = 0\n",
        "  for ball_in_the_box in range(10):\n",
        "    ball = np.random.randint(0,10)\n",
        "    # print(ball)\n",
        "    if ball <= 1:\n",
        "      count += 1\n",
        "  if count == 6:\n",
        "    nE += 1\n",
        "    # print(f\"n = {[nE]}\")\n",
        "    # print(\"--------\")\n",
        "\n",
        "print(f\"ความน่าจะเป็นในการหยิบลูกบอลได้สีน้ำเงินได้ 6 ใน 10 ครั้ง คือ {nE/nS}\")\n",
        "print(f\"เทียบกับทฤษฏี = { ( (0.2)**6 ) * ( (0.8)**4 ) }\")"
      ],
      "metadata": {
        "colab": {
          "base_uri": "https://localhost:8080/"
        },
        "id": "rD2t_ICtEA1s",
        "outputId": "8686ca74-4e7d-46c5-8233-f7f4dfbf877b"
      },
      "execution_count": 104,
      "outputs": [
        {
          "output_type": "stream",
          "name": "stdout",
          "text": [
            "ความน่าจะเป็นในการหยิบลูกบอลได้สีน้ำเงินได้ 6 ใน 10 ครั้ง คือ 0.00555\n",
            "เทียบกับทฤษฏี = 2.6214400000000015e-05\n"
          ]
        }
      ]
    }
  ]
}