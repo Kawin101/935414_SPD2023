{
  "nbformat": 4,
  "nbformat_minor": 0,
  "metadata": {
    "colab": {
      "provenance": [],
      "authorship_tag": "ABX9TyMEqMa8h5RIysD7cnZE4vrQ",
      "include_colab_link": true
    },
    "kernelspec": {
      "name": "python3",
      "display_name": "Python 3"
    },
    "language_info": {
      "name": "python"
    }
  },
  "cells": [
    {
      "cell_type": "markdown",
      "metadata": {
        "id": "view-in-github",
        "colab_type": "text"
      },
      "source": [
        "<a href=\"https://colab.research.google.com/github/Kawin101/935414_SPD2023/blob/main/935414_Lab01.ipynb\" target=\"_parent\"><img src=\"https://colab.research.google.com/assets/colab-badge.svg\" alt=\"Open In Colab\"/></a>"
      ]
    },
    {
      "cell_type": "code",
      "execution_count": null,
      "metadata": {
        "id": "_AOgmjtYQ7i7"
      },
      "outputs": [],
      "source": [
        "import numpy as np\n",
        "for x1 in range(5):\n",
        "  for x2 in range(7):\n",
        "    C1 = (x1<=4)\n",
        "    C2 = (2*x2 <= 12)\n",
        "    C3 = (3*x1 + 2*x2 <= 18)\n",
        "    if (C1 and C2 and C3):\n",
        "      Z = 300*x1 + 500*x2\n",
        "      if Z >= maxZ:\n",
        "        maxZ = Z\n",
        "      print(Z)"
      ]
    },
    {
      "cell_type": "code",
      "source": [
        "#แจงนับความน่าจะเป็น\n",
        "import itertools\n",
        "import matplotlib.pyplot as plt\n",
        "\n",
        "dp = range(1,7) #จำนวนแต้มที่สามารถเกิดขึ้นได้ 1,2,3,4,5,6 (python เริ่มนับค่าเริ่มต้น และไม่นับ)\n",
        "nE = 0 # กรณีการที่ลูกเต๋า 3 ลูกเกิดแต้มเดียวกัน และอีก 2 ลูกเกิดแต้มเดียวกัน (11122)\n",
        "nd = 0 # จำนวนลูกแบบทั้งหมด\n",
        "probability_list = []  # ลิสต์สำหรับเก็บค่าความน่าจะเป็น\n",
        "\n",
        "for element in itertools.product(dp,dp,dp,dp,dp): #การวนซ้ำแบบ จับคู่ทั้งหมด ()\n",
        "  a=element # ผลลัพธ์การจับคู่ทั้งหมด\n",
        "  pp=[0]*6 # เตรียมลิสต์สำหรับเก็บแต้มที่เกิดขึ้นในแต่ละผลลัพธ์\n",
        "  nd = nd + 1\n",
        "  for dd in a:\n",
        "      pp[dd-1] = pp[dd-1]+1\n",
        "  if (3 in pp) and (2 in pp):\n",
        "    nE = nE + 1\n",
        "    # print(nd, element, pp)\n",
        "  #ความน่าจะเป็นของ เหตุการณ์ PE = nE/nd\n",
        "  PE = nE/nd\n",
        "  probability_list.append(PE)\n",
        "\n",
        "print(nE, nd, PE)\n",
        "# print(6*5*4*3*2*1)\n",
        "\n",
        "# Plot\n",
        "plt.plot(probability_list)\n",
        "plt.axhline(1 / 6, color='orange', linestyle='--')\n",
        "plt.xlabel('Trials')\n",
        "plt.ylabel('Probability')\n",
        "plt.legend(('Real', 'Expected'), loc='upper right')\n",
        "plt.show()"
      ],
      "metadata": {
        "id": "gYeyhjergdDY"
      },
      "execution_count": null,
      "outputs": []
    },
    {
      "cell_type": "code",
      "source": [
        "# จำลองแบบ (Simulations)\n",
        "import random\n",
        "import matplotlib.pyplot as plt\n",
        "\n",
        "nExp = 1000000\n",
        "nE = 0 #เหตุการณ์ที่เราสนใจ\n",
        "probability_list = []  # ลิสต์สำหรับเก็บค่าความน่าจะเป็น\n",
        "\n",
        "for i in range(nExp):\n",
        "  pp=[0]*6 # เตรียมลิสต์สำหรับเก็บแต้มที่เกิดขึ้นในแต่ละผลลัพธ์\n",
        "  d5 = [random.randint(1,6),\n",
        "        random.randint(1,6),\n",
        "        random.randint(1,6),\n",
        "        random.randint(1,6),\n",
        "        random.randint(1,6)]\n",
        "  # print(d5)\n",
        "  for d in d5:\n",
        "    pp[d-1] = pp[d-1]+1\n",
        "  # print(pp)\n",
        "  if (3 in pp) and (2 in pp):\n",
        "    nE = nE + 1\n",
        "  #ความน่าจะเป็น PE = nE/nExp\n",
        "  PE = nE/nExp\n",
        "  probability_list.append(PE)\n",
        "\n",
        "print(nE, nExp, PE)\n",
        "\n",
        "# Plot\n",
        "plt.plot(probability_list)\n",
        "plt.axhline(1 / 6, color='orange', linestyle='--')\n",
        "plt.xlabel('Trials')\n",
        "plt.ylabel('Probability')\n",
        "plt.legend(('Real', 'Expected'), loc='upper right')\n",
        "plt.show()"
      ],
      "metadata": {
        "id": "YT5PZriGkKXG"
      },
      "execution_count": null,
      "outputs": []
    }
  ]
}