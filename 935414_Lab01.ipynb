{
  "nbformat": 4,
  "nbformat_minor": 0,
  "metadata": {
    "colab": {
      "provenance": [],
      "gpuType": "T4",
      "authorship_tag": "ABX9TyOCKxC/+7kTTRsFPfzzb/BH",
      "include_colab_link": true
    },
    "kernelspec": {
      "name": "python3",
      "display_name": "Python 3"
    },
    "language_info": {
      "name": "python"
    }
  },
  "cells": [
    {
      "cell_type": "markdown",
      "metadata": {
        "id": "view-in-github",
        "colab_type": "text"
      },
      "source": [
        "<a href=\"https://colab.research.google.com/github/Kawin101/935414_SPD2023/blob/main/935414_Lab01.ipynb\" target=\"_parent\"><img src=\"https://colab.research.google.com/assets/colab-badge.svg\" alt=\"Open In Colab\"/></a>"
      ]
    },
    {
      "cell_type": "code",
      "source": [
        "import random"
      ],
      "metadata": {
        "id": "KGax4Bp3KyFg"
      },
      "execution_count": null,
      "outputs": []
    },
    {
      "cell_type": "code",
      "execution_count": null,
      "metadata": {
        "colab": {
          "base_uri": "https://localhost:8080/"
        },
        "id": "pXQSNe0f8agI",
        "outputId": "ad7d5d26-0edd-4750-a402-d2447b01d9e2"
      },
      "outputs": [
        {
          "output_type": "stream",
          "name": "stdout",
          "text": [
            "จำนวนครั้งการเกิดแต้มมากกว่า 11 คือ 81 จากทั้งหมด 216 แบบ\n",
            "คิดเป็นความน่าจะเป็น 0.375\n"
          ]
        }
      ],
      "source": [
        "nd=0\n",
        "n11=0\n",
        "for d1 in range(1,7): # 1,2,3,4,5,6 | 7 คือขอบ วงนอกสุด python ไม่นับขอบ\n",
        "  for d2 in range(1,7):\n",
        "    for d3 in range(1,7):\n",
        "      nd = nd+1 # nd +=1\n",
        "      # print(nd, d1, d2, d3)\n",
        "      sumd = d1+d2+d3\n",
        "      # if d1+d2+d3 > 11:\n",
        "      # if d1+d2+d3 < 11:\n",
        "      if sumd > 11:\n",
        "        n11 = n11+1\n",
        "# print(\"จำนวนครั้งการเกิดแต้ม 11 คือ\", n11, \"จากทั้งหมด\", nd, \"แบบ\")\n",
        "# print(\"จำนวนครั้งการเกิดแต้มน้อยกว่า 11 คือ\", n11, \"จากทั้งหมด\", nd, \"แบบ\")\n",
        "print(\"จำนวนครั้งการเกิดแต้มมากกว่า 11 คือ\", n11, \"จากทั้งหมด\", nd, \"แบบ\")\n",
        "print(\"คิดเป็นความน่าจะเป็น\", n11/nd)"
      ]
    },
    {
      "cell_type": "code",
      "source": [
        "ps = [0 for i in range(1,7)]\n",
        "# print(ps)\n",
        "\n",
        "np = [0]*18\n",
        "print(np)\n",
        "print(np[0])\n",
        "print(np[17])\n"
      ],
      "metadata": {
        "id": "DYfPjeMh_TIP"
      },
      "execution_count": null,
      "outputs": []
    },
    {
      "cell_type": "code",
      "source": [
        "nd=0\n",
        "np=[0]*18\n",
        "i=-1\n",
        "for d1 in range(1,7): # 1,2,3,4,5,6 | 7 คือขอบ วงนอกสุด python ไม่นับขอบ\n",
        "  for d2 in range(1,7):\n",
        "    for d3 in range(1,7):\n",
        "      nd = nd+1 # nd +=1\n",
        "      sumd = d1+d2+d3\n",
        "      # print(\"ครั้งที่\",nd,\"แต้มแต่ละลูกได้\",d1,d2,d3,\"แต้มรวม\",sumd)\n",
        "      np[sumd-1] = np[sumd-1] + 1\n",
        "\n",
        "# print(np)\n",
        "for i in range(18):\n",
        "  print(\"จำนวนครั้งการเกิดแต้ม\",i+1,\"คือ\",np[i],\"คิดเป็นความน่าจะเป็นได้\",\"%.5f\"%(np[i]/nd))\n"
      ],
      "metadata": {
        "id": "m2wQDFjZBwKP"
      },
      "execution_count": null,
      "outputs": []
    },
    {
      "cell_type": "code",
      "source": [
        "nd=0\n",
        "np=[0]*18\n",
        "for d1 in range(1,7): # 1,2,3,4,5,6 | 7 คือขอบ วงนอกสุด python ไม่นับขอบ\n",
        "  for d2 in range(1,7):\n",
        "    for d3 in range(1,7):\n",
        "      nd = nd+1 # nd +=1\n",
        "      sumd = d1+d2+d3\n",
        "      # print(\"ครั้งที่\",nd,\"แต้มแต่ละลูกได้\",d1,d2,d3,\"แต้มรวม\",sumd)\n",
        "      np[sumd-1] = np[sumd-1] + 1\n",
        "print(np)\n",
        "# for i in range(18):\n",
        "  # print(\"จำนวนครั้งการเกิดแต้ม\",i+1,\"คือ\",np[i],\"คิดเป็นความน่าจะเป็นได้\",\"%.5f\"%(np[i]/nd))\n"
      ],
      "metadata": {
        "colab": {
          "base_uri": "https://localhost:8080/"
        },
        "id": "LHXqpN5dJU0h",
        "outputId": "f6196e89-a631-4f1b-b331-5797206a8a6e"
      },
      "execution_count": null,
      "outputs": [
        {
          "output_type": "stream",
          "name": "stdout",
          "text": [
            "[0, 0, 1, 3, 6, 10, 15, 21, 25, 27, 27, 25, 21, 15, 10, 6, 3, 1]\n"
          ]
        }
      ]
    },
    {
      "cell_type": "code",
      "source": [
        "nd=0\n",
        "np=[0]*30\n",
        "for d1 in range(1,7): # 1,2,3,4,5,6 | 7 คือขอบ วงนอกสุด python ไม่นับขอบ\n",
        "  for d2 in range(1,7):\n",
        "    for d3 in range(1,7):\n",
        "      for d4 in range(1,7):\n",
        "        for d5 in range(1,7):\n",
        "          nd = nd+1 # nd +=1\n",
        "          sumd = d1+d2+d3+d4+d5\n",
        "          # print(\"ครั้งที่\",nd,\"แต้มแต่ละลูกได้\",d1,d2,d3,d4,d5,\"แต้มรวม\",sumd)\n",
        "          np[sumd-1] = np[sumd-1] + 1\n",
        "# print(np)"
      ],
      "metadata": {
        "id": "zyX0bsrjQAUI"
      },
      "execution_count": null,
      "outputs": []
    },
    {
      "cell_type": "code",
      "source": [
        "# กวินภพ ชมนิกร 633410142-5\n",
        "import itertools\n",
        "nd=0\n",
        "dp = range(1,7)\n",
        "for element in itertools.product(dp,dp,dp,dp,dp):\n",
        "  nd+=1\n",
        "  a=element\n",
        "  pp=[0]*6\n",
        "  for dd in a:\n",
        "      pp[dd-1] = pp[dd-1]+1\n",
        "  # print(nd, a, pp)\n",
        "\n",
        "  # มีแต้มเรียงกัน 5 ลูก\n",
        "  if a == (1,2,3,4,5):\n",
        "    print(\"แต้มเรียงกัน 5 ลูก\",\"ครั้งที่\",nd,a,pp)\n",
        "  elif a == (2,3,4,5,6):\n",
        "    print(\"แต้มเรียงกัน 5 ลูก\",\"ครั้งที่\",nd,a,pp)\n",
        "  elif a == (6,5,4,3,2):\n",
        "    print(\"แต้มเรียงกัน 5 ลูก\",\"ครั้งที่\",nd,a,pp)\n",
        "  elif a == (5,4,3,2,1):\n",
        "    print(\"แต้มเรียงกัน 5 ลูก\",\"ครั้งที่\",nd,a,pp)\n",
        "# print(type(element))"
      ],
      "metadata": {
        "colab": {
          "base_uri": "https://localhost:8080/"
        },
        "id": "W1HFL670UDq_",
        "outputId": "964f7f00-3699-4a1e-add6-17edadcf063a"
      },
      "execution_count": null,
      "outputs": [
        {
          "output_type": "stream",
          "name": "stdout",
          "text": [
            "แต้มเรียงกัน 5 ลูก ครั้งที่ 311 (1, 2, 3, 4, 5) [1, 1, 1, 1, 1, 0]\n",
            "แต้มเรียงกัน 5 ลูก ครั้งที่ 1866 (2, 3, 4, 5, 6) [0, 1, 1, 1, 1, 1]\n",
            "แต้มเรียงกัน 5 ลูก ครั้งที่ 5911 (5, 4, 3, 2, 1) [1, 1, 1, 1, 1, 0]\n",
            "แต้มเรียงกัน 5 ลูก ครั้งที่ 7466 (6, 5, 4, 3, 2) [0, 1, 1, 1, 1, 1]\n"
          ]
        }
      ]
    },
    {
      "cell_type": "code",
      "source": [
        "# กวินภพ ชมนิกร 633410142-5\n",
        "import itertools\n",
        "nd=0\n",
        "dp = range(1,7)\n",
        "for element in itertools.product(dp,dp,dp,dp,dp):\n",
        "  nd+=1\n",
        "  a=element\n",
        "  pp=[0]*6\n",
        "  for dd in a:\n",
        "      pp[dd-1] = pp[dd-1]+1\n",
        "  # print(nd, a, pp)\n",
        "\n",
        "  # 2.1 เกิดแต้มเดียวกัน จำนวน 5 ลูก\n",
        "  if a == (1,1,1,1,1):\n",
        "    print(\"แต้มเรียงกัน 5 ลูก\",\"ครั้งที่\",nd,a,pp)\n",
        "  elif a == (2,2,2,2,2):\n",
        "    print(\"แต้มเรียงกัน 5 ลูก\",\"ครั้งที่\",nd,a,pp)\n",
        "  elif a == (3,3,3,3,3):\n",
        "    print(\"แต้มเรียงกัน 5 ลูก\",\"ครั้งที่\",nd,a,pp)\n",
        "  elif a == (4,4,4,4,4):\n",
        "    print(\"แต้มเรียงกัน 5 ลูก\",\"ครั้งที่\",nd,a,pp)\n",
        "  elif a == (5,5,5,5,5):\n",
        "    print(\"แต้มเรียงกัน 5 ลูก\",\"ครั้งที่\",nd,a,pp)\n",
        "  elif a == (6,6,6,6,6):\n",
        "    print(\"แต้มเรียงกัน 5 ลูก\",\"ครั้งที่\",nd,a,pp)\n",
        "# print(type(element))"
      ],
      "metadata": {
        "colab": {
          "base_uri": "https://localhost:8080/"
        },
        "id": "iKJMM9v7HsWh",
        "outputId": "83c4332c-e88e-4536-f563-c0fb8df68de1"
      },
      "execution_count": null,
      "outputs": [
        {
          "output_type": "stream",
          "name": "stdout",
          "text": [
            "แต้มเรียงกัน 5 ลูก ครั้งที่ 1 (1, 1, 1, 1, 1) [5, 0, 0, 0, 0, 0]\n",
            "แต้มเรียงกัน 5 ลูก ครั้งที่ 1556 (2, 2, 2, 2, 2) [0, 5, 0, 0, 0, 0]\n",
            "แต้มเรียงกัน 5 ลูก ครั้งที่ 3111 (3, 3, 3, 3, 3) [0, 0, 5, 0, 0, 0]\n",
            "แต้มเรียงกัน 5 ลูก ครั้งที่ 4666 (4, 4, 4, 4, 4) [0, 0, 0, 5, 0, 0]\n",
            "แต้มเรียงกัน 5 ลูก ครั้งที่ 6221 (5, 5, 5, 5, 5) [0, 0, 0, 0, 5, 0]\n",
            "แต้มเรียงกัน 5 ลูก ครั้งที่ 7776 (6, 6, 6, 6, 6) [0, 0, 0, 0, 0, 5]\n"
          ]
        }
      ]
    },
    {
      "cell_type": "code",
      "source": [
        "import itertools\n",
        "nd=0\n",
        "dp = range(1,7)\n",
        "for element in itertools.product(dp,dp,dp,dp,dp):\n",
        "  nd+=1\n",
        "  a=element\n",
        "  pp=[0]*6\n",
        "  for dd in a:\n",
        "      pp[dd-1] = pp[dd-1]+1\n",
        "  # print(nd, a, pp)\n",
        "\n",
        "  # 2.2 แต้มเดียวกัน จำนวน 4 ลูก และอีกหนึ่งแต้ม 1 ลูก\n",
        "  if a == (1,1,1,1,1):\n",
        "    print(\"แต้มเรียงกัน 5 ลูก\",\"ครั้งที่\",nd,a,pp)\n",
        "\n",
        "  elif a == (1,2,2,2,2):\n",
        "    print(\"แต้มเรียงกัน 5 ลูก\",\"ครั้งที่\",nd,a,pp)\n",
        "  elif a == (1,3,3,3,3):\n",
        "    print(\"แต้มเรียงกัน 5 ลูก\",\"ครั้งที่\",nd,a,pp)\n",
        "  elif a == (1,4,4,4,4):\n",
        "    print(\"แต้มเรียงกัน 5 ลูก\",\"ครั้งที่\",nd,a,pp)\n",
        "  elif a == (1,5,5,5,5):\n",
        "    print(\"แต้มเรียงกัน 5 ลูก\",\"ครั้งที่\",nd,a,pp)\n",
        "  elif a == (1,6,6,6,6):\n",
        "    print(\"แต้มเรียงกัน 5 ลูก\",\"ครั้งที่\",nd,a,pp)\n",
        "\n",
        "  elif a == (2,2,2,2,1):\n",
        "    print(\"แต้มเรียงกัน 5 ลูก\",\"ครั้งที่\",nd,a,pp)\n",
        "  elif a == (3,3,3,3,1):\n",
        "    print(\"แต้มเรียงกัน 5 ลูก\",\"ครั้งที่\",nd,a,pp)\n",
        "  elif a == (4,4,4,4,1):\n",
        "    print(\"แต้มเรียงกัน 5 ลูก\",\"ครั้งที่\",nd,a,pp)\n",
        "  elif a == (5,5,5,5,1):\n",
        "    print(\"แต้มเรียงกัน 5 ลูก\",\"ครั้งที่\",nd,a,pp)\n",
        "  elif a == (6,6,6,6,1):\n",
        "    print(\"แต้มเรียงกัน 5 ลูก\",\"ครั้งที่\",nd,a,pp)\n",
        "# print(type(element))"
      ],
      "metadata": {
        "id": "6ZjU_H2lImDV"
      },
      "execution_count": null,
      "outputs": []
    },
    {
      "cell_type": "code",
      "source": [
        "#แจงนับความน่าจะเป็น\n",
        "import itertools\n",
        "dp = range(1,7) #จำนวนแต้มที่สามารถเกิดขึ้นได้ 1,2,3,4,5,6 (python เริ่มนับค่าเริ่มต้น และไม่นับ)\n",
        "nE = 0 # กรณีการที่ลูกเต๋า 3 ลูกเกิดแต้มเดียวกัน และอีก 2 ลูกเกิดแต้มเดียวกัน (11122)\n",
        "nd = 0 # จำนวนลูกแบบทั้งหมด\n",
        "for element in itertools.product(dp,dp,dp,dp,dp): #การวนซ้ำแบบ จับคู่ทั้งหมด ()\n",
        "  a=element # ผลลัพธ์การจับคู่ทั้งหมด\n",
        "  pp=[0]*6 # เตรียมลิสต์สำหรับเก็บแต้มที่เกิดขึ้นในแต่ละผลลัพธ์\n",
        "  nd = nd + 1\n",
        "  for dd in a:\n",
        "      pp[dd-1] = pp[dd-1]+1\n",
        "  if (3 in pp) and (2 in pp): #max(pp)==3 and min(pp) == 22 [3 2 0 0 0 0]\n",
        "    nE = nE + 1\n",
        "    # print(nd, element, pp)\n",
        "\n",
        "#ความน่าจะเป็นของ เหตุการณ์ PE = nE/nd\n",
        "PE = nE/nd\n",
        "print(nE, nd, PE)\n",
        "# print(6*5*4*3*2*1)"
      ],
      "metadata": {
        "colab": {
          "base_uri": "https://localhost:8080/"
        },
        "id": "qtD7JB-UBkIg",
        "outputId": "ddb14c69-ea47-46e6-ce8c-a281074f5f77"
      },
      "execution_count": 25,
      "outputs": [
        {
          "output_type": "stream",
          "name": "stdout",
          "text": [
            "300 7776 0.038580246913580245\n"
          ]
        }
      ]
    },
    {
      "cell_type": "code",
      "source": [
        "# จำลองแบบ (Simulations)\n",
        "import random\n",
        "nExp = 1000000\n",
        "nE = 0 #เหตุการณ์ที่เราสนใจ\n",
        "for i in range(nExp):\n",
        "  pp=[0]*6 # เตรียมลิสต์สำหรับเก็บแต้มที่เกิดขึ้นในแต่ละผลลัพธ์\n",
        "  d5 = [random.randint(1,6),\n",
        "        random.randint(1,6),\n",
        "        random.randint(1,6),\n",
        "        random.randint(1,6),\n",
        "        random.randint(1,6)]\n",
        "  # print(d5)\n",
        "  for d in d5:\n",
        "    pp[d-1] = pp[d-1]+1\n",
        "  # print(pp)\n",
        "  if (3 in pp) and (2 in pp):\n",
        "    nE = nE + 1\n",
        "#ความน่าจะเป็น PE = nE/nExp\n",
        "PE = nE/nExp\n",
        "print(nE, nExp, PE)"
      ],
      "metadata": {
        "colab": {
          "base_uri": "https://localhost:8080/"
        },
        "id": "n8owqHBMK213",
        "outputId": "3bcbbd7c-fde0-4f49-f509-c7ea216bd2ea"
      },
      "execution_count": 10,
      "outputs": [
        {
          "output_type": "stream",
          "name": "stdout",
          "text": [
            "38781 1000000 0.038781\n"
          ]
        }
      ]
    }
  ]
}