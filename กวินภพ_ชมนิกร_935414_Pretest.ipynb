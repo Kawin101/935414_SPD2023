{
  "nbformat": 4,
  "nbformat_minor": 0,
  "metadata": {
    "colab": {
      "provenance": [],
      "include_colab_link": true
    },
    "kernelspec": {
      "name": "python3",
      "display_name": "Python 3"
    },
    "language_info": {
      "name": "python"
    }
  },
  "cells": [
    {
      "cell_type": "markdown",
      "metadata": {
        "id": "view-in-github",
        "colab_type": "text"
      },
      "source": [
        "<a href=\"https://colab.research.google.com/github/Kawin101/935414_SPD2023/blob/main/%E0%B8%81%E0%B8%A7%E0%B8%B4%E0%B8%99%E0%B8%A0%E0%B8%9E_%E0%B8%8A%E0%B8%A1%E0%B8%99%E0%B8%B4%E0%B8%81%E0%B8%A3_935414_Pretest.ipynb\" target=\"_parent\"><img src=\"https://colab.research.google.com/assets/colab-badge.svg\" alt=\"Open In Colab\"/></a>"
      ]
    },
    {
      "cell_type": "markdown",
      "source": [
        "ส่วนที่ 2\n",
        "<p> เขียนโปรแกรมเปรียบเทียบการแจงนับทางฤทษฎี และการจำลองแบบ ความน่าจะเป็นในการเกิดลูกเต๋าแต้มเดียวกัน 3 และ 2 ลูก (เช่น 33322 หรือ 66555)"
      ],
      "metadata": {
        "id": "lN_cUB6Hb6sL"
      }
    },
    {
      "cell_type": "code",
      "source": [
        "#จำลองแบบ (Simulations)\n",
        "import random\n",
        "nExp = 7776 #จำนวนเหตุการณ์\n",
        "nE = 0  #เหตุการณ์ที่เราสนใจ\n",
        "for i in range(nExp):\n",
        "  pp = [0]*6    #เตรียมลิสต์จำหรับเก็บแต้มที่เกิดขึ้นในแต่ละผลลัพธ์\n",
        "  d5 = [random.randint(1,6),\n",
        "        random.randint(1,6),\n",
        "        random.randint(1,6),\n",
        "        random.randint(1,6),\n",
        "        random.randint(1,6)]\n",
        "  #print(d5)\n",
        "  for d in d5:\n",
        "        pp[d-1] = pp[d-1]+1\n",
        "  #print(pp)\n",
        "  if (3 in pp) and (2 in pp):\n",
        "       nE = nE + 1\n",
        "      #  print(nE,d5)\n",
        "#ความน่าจะเป็น PE = nE/nExp\n",
        "PE = nE/nExp\n",
        "print(nE, nExp, PE)"
      ],
      "metadata": {
        "id": "VbEfgCwfb_zh",
        "colab": {
          "base_uri": "https://localhost:8080/"
        },
        "outputId": "e27234d8-81d8-40d9-c1a9-1d02d9207781"
      },
      "execution_count": null,
      "outputs": [
        {
          "output_type": "stream",
          "name": "stdout",
          "text": [
            "280 7776 0.0360082304526749\n"
          ]
        }
      ]
    },
    {
      "cell_type": "code",
      "source": [
        "##ทางฤทษฎี\n",
        "import itertools\n",
        "dp = range(1,7)  #จำนวนแต้มที่สามารถเกิดขึ้นได้ 1,2,3,4,5,6 (python เริ่มนับค่าเริ่มต้น และไม่นับค่าปลาย)\n",
        "nE = 0     # กรณีการที่ลูกเต๋า 3 ลูกเกิดแต้มเดียวกัน และอีก 2 ลูกเกิดแต้มเดียวกัน (11122)\n",
        "nd = 0     # จำนวนลูกแบบทั้งหมด\n",
        "for element in itertools.product(dp, dp, dp, dp, dp):  #การวนซ้ำแบบ จับคู่ทั้งหมด (คาร์เทเซียนโปรดัก)\n",
        "    a=element     #ผลลัพธ์การจำคู่ทั้งหมด\n",
        "    pp = [0]*6    #เตรียมลิสต์จำหรับเก็บแต้มที่เกิดขึ้นในแต่ละผลลัพธ์\n",
        "    nd = nd + 1\n",
        "    for dd in a:\n",
        "        pp[dd-1] = pp[dd-1]+1\n",
        "    if (3 in pp) and (2 in pp):\n",
        "       nE = nE + 1\n",
        "      #  print (nE,element,pp)\n",
        "#ความน่าจะเป็นของ เหตุการณ์ PE = nE/nd\n",
        "PE = nE/nd\n",
        "print(nE, nd, PE)"
      ],
      "metadata": {
        "colab": {
          "base_uri": "https://localhost:8080/"
        },
        "id": "u1Vz6YbmB2cK",
        "outputId": "a32c3381-bc44-4513-d57c-6b60e34f84be"
      },
      "execution_count": null,
      "outputs": [
        {
          "output_type": "stream",
          "name": "stdout",
          "text": [
            "300 7776 0.038580246913580245\n"
          ]
        }
      ]
    },
    {
      "cell_type": "code",
      "source": [
        "##ทางฤทษฎี\n",
        "nd = 0\n",
        "nn = 0\n",
        "for d1 in range(1,7):\n",
        "  for d2 in range(1,7):\n",
        "    for d3 in range(1,7):\n",
        "      for d4 in range(1,7):\n",
        "        for d5 in range(1,7):\n",
        "          nda1 = (d1 == d2) and (d3 == d4 == d5) or (d1 == d3) and (d4 == d5 == d2) or (d1 == d4) and (d2 == d3 == d5) or (d1 == d5) and (d2 == d3 == d4)\n",
        "          nda2 = (d2 == d1) and (d3 == d4 == d5) or (d2 == d3) and (d4 == d5 == d1) or (d2 == d4) and (d1 == d3 == d5) or (d2 == d5) and (d1 == d3 == d4)\n",
        "          nda3 = (d3 == d1) and (d2 == d4 == d5) or (d3 == d2) and (d4 == d5 == d1) or (d3 == d4) and (d1 == d2 == d5) or (d3 == d5) and (d1 == d2 == d4)\n",
        "          nda4 = (d4 == d1) and (d2 == d3 == d5) or (d4 == d2) and (d3 == d5 == d1) or (d4 == d3) and (d1 == d2 == d5) or (d4 == d5) and (d1 == d2 == d3)\n",
        "          nda5 = (d5 == d1) and (d2 == d3 == d4) or (d5 == d2) and (d3 == d4 == d1) or (d5 == d3) and (d1 == d2 == d4) or (d5 == d4) and (d1 == d2 == d3)\n",
        "          n5 = (d1 == d2 == d3 == d4 == d5)\n",
        "          nn = nn+1\n",
        "          if (nda1 or nda2 or nda3 or nda4 or nda5) != n5 :\n",
        "            nd = nd+1\n",
        "            # print(\"ครั้งที่\", nd,\"เกิดแต้มเหมือนกันคือ\", d1, d2, d3, d4, d5)\n",
        "print(\"ครั้งที่สุดท้าย\", nd)\n",
        "PE = nd/nn\n",
        "print(nd, nn, PE)"
      ],
      "metadata": {
        "colab": {
          "base_uri": "https://localhost:8080/"
        },
        "id": "61xKWosdByEC",
        "outputId": "08b8d3c1-fb5c-4cc1-8172-02d6b48be81b"
      },
      "execution_count": null,
      "outputs": [
        {
          "output_type": "stream",
          "name": "stdout",
          "text": [
            "ครั้งที่สุดท้าย 300\n",
            "300 7776 0.038580246913580245\n"
          ]
        }
      ]
    }
  ]
}